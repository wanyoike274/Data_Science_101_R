{
 "cells": [
  {
   "cell_type": "code",
   "execution_count": 1,
   "id": "649d556f",
   "metadata": {},
   "outputs": [
    {
     "name": "stderr",
     "output_type": "stream",
     "text": [
      "also installing the dependencies 'fastmap', 'cachem', 'fs', 'rappdirs', 'processx', 'evaluate', 'xfun', 'lifecycle', 'memoise', 'blob', 'tidyselect', 'vctrs', 'glue', 'data.table', 'scales', 'gargle', 'ids', 'rematch2', 'curl', 'timechange', 'systemfonts', 'textshaping', 'vroom', 'callr', 'knitr', 'stringi', 'broom', 'conflicted', 'cli', 'dbplyr', 'dplyr', 'dtplyr', 'forcats', 'ggplot2', 'googledrive', 'googlesheets4', 'haven', 'hms', 'httr', 'jsonlite', 'lubridate', 'magrittr', 'modelr', 'pillar', 'purrr', 'ragg', 'readr', 'readxl', 'reprex', 'rlang', 'rstudioapi', 'rvest', 'stringr', 'tibble', 'tidyr', 'xml2'\n",
      "\n"
     ]
    },
    {
     "name": "stdout",
     "output_type": "stream",
     "text": [
      "\n",
      "  There are binary versions available but the source versions are later:\n",
      "              binary source needs_compilation\n",
      "fastmap        1.1.0  1.1.1              TRUE\n",
      "cachem         1.0.4  1.0.8              TRUE\n",
      "fs             1.5.0  1.6.3              TRUE\n",
      "processx       3.5.2  3.8.2              TRUE\n",
      "evaluate        0.14   0.21             FALSE\n",
      "xfun            0.22   0.40              TRUE\n",
      "lifecycle      1.0.0  1.0.3             FALSE\n",
      "memoise        2.0.0  2.0.1             FALSE\n",
      "blob           1.2.1  1.2.4             FALSE\n",
      "tidyselect     1.1.1  1.2.0             FALSE\n",
      "vctrs          0.3.8  0.6.3              TRUE\n",
      "glue           1.4.2  1.6.2              TRUE\n",
      "data.table    1.14.0 1.14.8              TRUE\n",
      "scales         1.1.1  1.2.1             FALSE\n",
      "gargle         1.1.0  1.5.2             FALSE\n",
      "curl           4.3.1  5.0.2              TRUE\n",
      "timechange     0.0.2  0.2.0              TRUE\n",
      "systemfonts    1.0.2  1.0.4              TRUE\n",
      "textshaping    0.3.4  0.3.6              TRUE\n",
      "vroom          1.4.0  1.6.3              TRUE\n",
      "callr          3.7.0  3.7.3             FALSE\n",
      "knitr           1.33   1.43             FALSE\n",
      "stringi        1.6.1 1.7.12              TRUE\n",
      "broom          0.7.6  1.0.5             FALSE\n",
      "conflicted     1.0.4  1.2.0             FALSE\n",
      "cli            2.5.0  3.6.1              TRUE\n",
      "dbplyr         2.1.1  2.3.3             FALSE\n",
      "dplyr          1.0.6  1.1.2              TRUE\n",
      "dtplyr         1.1.0  1.3.1             FALSE\n",
      "forcats        0.5.1  1.0.0             FALSE\n",
      "ggplot2        3.3.3  3.4.3             FALSE\n",
      "googledrive    1.0.1  2.1.1             FALSE\n",
      "googlesheets4  0.3.0  1.1.1             FALSE\n",
      "haven          2.4.1  2.5.3              TRUE\n",
      "hms            1.0.0  1.1.3             FALSE\n",
      "httr           1.4.2  1.4.7             FALSE\n",
      "jsonlite       1.7.2  1.8.7              TRUE\n",
      "lubridate     1.7.10  1.9.2              TRUE\n",
      "magrittr       2.0.1  2.0.3              TRUE\n",
      "modelr         0.1.8 0.1.11             FALSE\n",
      "pillar         1.6.0  1.9.0             FALSE\n",
      "purrr          0.3.4  1.0.2              TRUE\n",
      "ragg           1.1.2  1.2.5              TRUE\n",
      "readr          1.4.0  2.1.4              TRUE\n",
      "readxl         1.3.1  1.4.3              TRUE\n",
      "reprex         2.0.0  2.0.2             FALSE\n",
      "rlang         0.4.11  1.1.1              TRUE\n",
      "rstudioapi      0.13 0.15.0             FALSE\n",
      "rvest          1.0.0  1.0.3             FALSE\n",
      "stringr        1.4.0  1.5.0             FALSE\n",
      "tibble         3.1.1  3.2.1              TRUE\n",
      "tidyr          1.1.3  1.3.0              TRUE\n",
      "xml2           1.3.2  1.3.5              TRUE\n",
      "tidyverse      1.3.1  2.0.0             FALSE\n",
      "\n",
      "  Binaries will be installed\n",
      "package 'fastmap' successfully unpacked and MD5 sums checked\n",
      "package 'cachem' successfully unpacked and MD5 sums checked\n",
      "package 'fs' successfully unpacked and MD5 sums checked\n",
      "package 'rappdirs' successfully unpacked and MD5 sums checked\n",
      "package 'processx' successfully unpacked and MD5 sums checked\n",
      "package 'xfun' successfully unpacked and MD5 sums checked\n",
      "package 'vctrs' successfully unpacked and MD5 sums checked\n",
      "package 'glue' successfully unpacked and MD5 sums checked\n",
      "package 'data.table' successfully unpacked and MD5 sums checked\n",
      "package 'ids' successfully unpacked and MD5 sums checked\n",
      "package 'rematch2' successfully unpacked and MD5 sums checked\n",
      "package 'curl' successfully unpacked and MD5 sums checked\n",
      "package 'timechange' successfully unpacked and MD5 sums checked\n",
      "package 'systemfonts' successfully unpacked and MD5 sums checked\n",
      "package 'textshaping' successfully unpacked and MD5 sums checked\n",
      "package 'vroom' successfully unpacked and MD5 sums checked\n",
      "package 'stringi' successfully unpacked and MD5 sums checked\n",
      "package 'cli' successfully unpacked and MD5 sums checked\n",
      "package 'dplyr' successfully unpacked and MD5 sums checked\n",
      "package 'haven' successfully unpacked and MD5 sums checked\n",
      "package 'jsonlite' successfully unpacked and MD5 sums checked\n"
     ]
    },
    {
     "name": "stderr",
     "output_type": "stream",
     "text": [
      "Warning message:\n",
      "\"cannot remove prior installation of package 'jsonlite'\"Warning message in file.copy(savedcopy, lib, recursive = TRUE):\n",
      "\"problem copying C:\\Users\\Joseph\\anaconda3\\envs\\R\\Lib\\R\\library\\00LOCK\\jsonlite\\libs\\x64\\jsonlite.dll to C:\\Users\\Joseph\\anaconda3\\envs\\R\\Lib\\R\\library\\jsonlite\\libs\\x64\\jsonlite.dll: Permission denied\"Warning message:\n",
      "\"restored 'jsonlite'\""
     ]
    },
    {
     "name": "stdout",
     "output_type": "stream",
     "text": [
      "package 'lubridate' successfully unpacked and MD5 sums checked\n",
      "package 'magrittr' successfully unpacked and MD5 sums checked\n",
      "package 'purrr' successfully unpacked and MD5 sums checked\n",
      "package 'ragg' successfully unpacked and MD5 sums checked\n",
      "package 'readr' successfully unpacked and MD5 sums checked\n",
      "package 'readxl' successfully unpacked and MD5 sums checked\n",
      "package 'rlang' successfully unpacked and MD5 sums checked\n",
      "package 'tibble' successfully unpacked and MD5 sums checked\n",
      "package 'tidyr' successfully unpacked and MD5 sums checked\n",
      "package 'xml2' successfully unpacked and MD5 sums checked\n",
      "\n",
      "The downloaded binary packages are in\n",
      "\tC:\\Users\\Joseph\\AppData\\Local\\Temp\\RtmpCSjZLN\\downloaded_packages\n"
     ]
    },
    {
     "name": "stderr",
     "output_type": "stream",
     "text": [
      "installing the source packages 'evaluate', 'lifecycle', 'memoise', 'blob', 'tidyselect', 'scales', 'gargle', 'callr', 'knitr', 'broom', 'conflicted', 'dbplyr', 'dtplyr', 'forcats', 'ggplot2', 'googledrive', 'googlesheets4', 'hms', 'httr', 'modelr', 'pillar', 'reprex', 'rstudioapi', 'rvest', 'stringr', 'tidyverse'\n",
      "\n",
      "Warning message in install.packages(\"tidyverse\"):\n",
      "\"installation of package 'lifecycle' had non-zero exit status\"Warning message in install.packages(\"tidyverse\"):\n",
      "\"installation of package 'callr' had non-zero exit status\"Warning message in install.packages(\"tidyverse\"):\n",
      "\"installation of package 'tidyselect' had non-zero exit status\"Warning message in install.packages(\"tidyverse\"):\n",
      "\"installation of package 'scales' had non-zero exit status\"Warning message in install.packages(\"tidyverse\"):\n",
      "\"installation of package 'gargle' had non-zero exit status\"Warning message in install.packages(\"tidyverse\"):\n",
      "\"installation of package 'knitr' had non-zero exit status\"Warning message in install.packages(\"tidyverse\"):\n",
      "\"installation of package 'conflicted' had non-zero exit status\"Warning message in install.packages(\"tidyverse\"):\n",
      "\"installation of package 'forcats' had non-zero exit status\"Warning message in install.packages(\"tidyverse\"):\n",
      "\"installation of package 'hms' had non-zero exit status\"Warning message in install.packages(\"tidyverse\"):\n",
      "\"installation of package 'pillar' had non-zero exit status\"Warning message in install.packages(\"tidyverse\"):\n",
      "\"installation of package 'rvest' had non-zero exit status\"Warning message in install.packages(\"tidyverse\"):\n",
      "\"installation of package 'stringr' had non-zero exit status\"Warning message in install.packages(\"tidyverse\"):\n",
      "\"installation of package 'broom' had non-zero exit status\"Warning message in install.packages(\"tidyverse\"):\n",
      "\"installation of package 'dbplyr' had non-zero exit status\"Warning message in install.packages(\"tidyverse\"):\n",
      "\"installation of package 'dtplyr' had non-zero exit status\"Warning message in install.packages(\"tidyverse\"):\n",
      "\"installation of package 'ggplot2' had non-zero exit status\"Warning message in install.packages(\"tidyverse\"):\n",
      "\"installation of package 'googledrive' had non-zero exit status\"Warning message in install.packages(\"tidyverse\"):\n",
      "\"installation of package 'reprex' had non-zero exit status\"Warning message in install.packages(\"tidyverse\"):\n",
      "\"installation of package 'googlesheets4' had non-zero exit status\"Warning message in install.packages(\"tidyverse\"):\n",
      "\"installation of package 'modelr' had non-zero exit status\"Warning message in install.packages(\"tidyverse\"):\n",
      "\"installation of package 'tidyverse' had non-zero exit status\""
     ]
    }
   ],
   "source": [
    "install.packages(\"tidyverse\")"
   ]
  },
  {
   "cell_type": "code",
   "execution_count": null,
   "id": "6f5944f0",
   "metadata": {},
   "outputs": [],
   "source": []
  }
 ],
 "metadata": {
  "kernelspec": {
   "display_name": "R",
   "language": "R",
   "name": "ir"
  },
  "language_info": {
   "codemirror_mode": "r",
   "file_extension": ".r",
   "mimetype": "text/x-r-source",
   "name": "R",
   "pygments_lexer": "r",
   "version": "3.6.1"
  }
 },
 "nbformat": 4,
 "nbformat_minor": 5
}
